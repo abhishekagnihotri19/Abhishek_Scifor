{
  "nbformat": 4,
  "nbformat_minor": 0,
  "metadata": {
    "colab": {
      "provenance": []
    },
    "kernelspec": {
      "name": "python3",
      "display_name": "Python 3"
    },
    "language_info": {
      "name": "python"
    }
  },
  "cells": [
    {
      "cell_type": "markdown",
      "source": [
        "Que 1. Explain Encapsulation with example and write python code?\n"
      ],
      "metadata": {
        "id": "5AuJ4uH_7qw3"
      }
    },
    {
      "cell_type": "markdown",
      "source": [
        "Encapsulation is one of the fundamental concepts in object-oriented programming (OOP). It refers to the bundling of data (attributes) and methods (functions) that operate on the data into a single unit, or class."
      ],
      "metadata": {
        "id": "76gUifWb8UEt"
      }
    },
    {
      "cell_type": "markdown",
      "source": [
        "Encapsulation restricts direct access to some of an object's components, which means that the internal representation of an object can't be seen from outside the object's definition."
      ],
      "metadata": {
        "id": "vLhjp4FG8c11"
      }
    },
    {
      "cell_type": "markdown",
      "source": [
        " This is usually achieved by making some attributes private and providing public methods to access and modify those attributes."
      ],
      "metadata": {
        "id": "BhPk1OH28d63"
      }
    },
    {
      "cell_type": "code",
      "source": [
        "class BankAccount:\n",
        "    def __init__(self, account_number, balance=0.0):\n",
        "        self.account_number = account_number\n",
        "        self.__balance = balance  # Private attribute\n",
        "\n",
        "    def deposit(self, amount):\n",
        "        if amount > 0:\n",
        "            self.__balance += amount\n",
        "            print(f\"Deposited {amount}. New balance is {self.__balance}.\")\n",
        "        else:\n",
        "            print(\"Deposit amount must be positive.\")\n",
        "\n",
        "    def withdraw(self, amount):\n",
        "        if 0 < amount <= self.__balance:\n",
        "            self.__balance -= amount\n",
        "            print(f\"Withdrew {amount}. New balance is {self.__balance}.\")\n",
        "        else:\n",
        "            print(\"Invalid withdraw amount.\")\n",
        "\n",
        "    def get_balance(self):\n",
        "        return self.__balance\n",
        "\n",
        "# Example usage\n",
        "account = BankAccount(\"12345678\")\n",
        "account.deposit(100)\n",
        "account.withdraw(30)\n",
        "print(f\"Current balance: {account.get_balance()}\")\n"
      ],
      "metadata": {
        "colab": {
          "base_uri": "https://localhost:8080/"
        },
        "id": "UFlZ4xFV8izL",
        "outputId": "cfaed818-795d-42e7-dd9a-2cd9594d5942"
      },
      "execution_count": 1,
      "outputs": [
        {
          "output_type": "stream",
          "name": "stdout",
          "text": [
            "Deposited 100. New balance is 100.0.\n",
            "Withdrew 30. New balance is 70.0.\n",
            "Current balance: 70.0\n"
          ]
        }
      ]
    },
    {
      "cell_type": "markdown",
      "source": [
        "\n",
        "Que 2. Explain polymorphism with example and write python code\n",
        "\n",
        "\n"
      ],
      "metadata": {
        "id": "a9rHvFFA8y5B"
      }
    },
    {
      "cell_type": "markdown",
      "source": [
        "Polymorphism is another core concept in object-oriented programming (OOP). It allows methods to do different things based on the object it is acting upon, even though they share the same name. Polymorphism enables a single interface to represent different underlying forms (data types)."
      ],
      "metadata": {
        "id": "ld6LmxhA8_3N"
      }
    },
    {
      "cell_type": "code",
      "source": [
        "class player:\n",
        "  def playing(self):\n",
        "    print(\"player is playing cricket\")\n",
        "\n",
        "class batsman(player):\n",
        "  def batsman(self):\n",
        "    print(\"player is hitting sixes\")\n",
        "\n",
        "class bowler(batsman):\n",
        "  def bowling(self):\n",
        "    print(\"Bowlers taking wickets\")\n",
        "\n",
        "sportsman=bowler()\n",
        "sportsman.playing()\n",
        "sportsman.batsman()\n",
        "sportsman.bowling()"
      ],
      "metadata": {
        "colab": {
          "base_uri": "https://localhost:8080/"
        },
        "id": "DnsnhnOs7yHX",
        "outputId": "3b7e3b2f-2906-461f-8b62-46c033cf9f7a"
      },
      "execution_count": 2,
      "outputs": [
        {
          "output_type": "stream",
          "name": "stdout",
          "text": [
            "player is playing cricket\n",
            "player is hitting sixes\n",
            "Bowlers taking wickets\n"
          ]
        }
      ]
    },
    {
      "cell_type": "markdown",
      "source": [
        "Question 3. Explain Single level Inheritence with Python Code"
      ],
      "metadata": {
        "id": "rXIQXIsG-CXD"
      }
    },
    {
      "cell_type": "markdown",
      "source": [
        "Single-level inheritance is a type of inheritance in object-oriented programming where a class (derived or child class) inherits properties and behaviors (methods) from another single class (base or parent class). In this form of inheritance, there is only one level of inheritance hierarchy involved.\n",
        "\n"
      ],
      "metadata": {
        "id": "-sbIOdlK-naQ"
      }
    },
    {
      "cell_type": "code",
      "source": [
        "# Parent Class\n",
        "class metaschifor:\n",
        "  def uroojMadam(self):\n",
        "    print(\"take a class of DataScience\")\n",
        "# Child Class\n",
        "class data_science_batch(metaschifor):\n",
        "  def data_science_batch(self):\n",
        "    print(\"Upskill youself in Python\")\n",
        "\n",
        "class abhishek(data_science_batch):\n",
        "  def abhishek(self):\n",
        "    print(\"working hard for upskilling\")\n",
        "\n",
        "abhi=abhishek()\n",
        "abhi.data_science_batch()\n",
        "abhi.uroojMadam()"
      ],
      "metadata": {
        "colab": {
          "base_uri": "https://localhost:8080/"
        },
        "id": "OWjN8az6-b5M",
        "outputId": "dff97387-b4de-483a-b5d2-0651adb5970c"
      },
      "execution_count": 3,
      "outputs": [
        {
          "output_type": "stream",
          "name": "stdout",
          "text": [
            "Upskill youself in Python\n",
            "take a class of DataScience\n"
          ]
        }
      ]
    },
    {
      "cell_type": "markdown",
      "source": [
        "Question 4. Explain Multiple Inheritence with python code?"
      ],
      "metadata": {
        "id": "wY--MtRe_5Ql"
      }
    },
    {
      "cell_type": "code",
      "source": [
        "class BhartiyaJantaParty:\n",
        "    def BJP(self):\n",
        "        print(\"Government of BJP can form\")\n",
        "\n",
        "class TeluguDesam:\n",
        "    def TDP(self):\n",
        "        print(\"Alliance can form\")\n",
        "\n",
        "class NationalDemocraticAlliance(BhartiyaJantaParty, TeluguDesam):\n",
        "    def NDA(self):\n",
        "        print(\"Government of NDA will form on 8 June 2024\")\n",
        "\n",
        "nda2 = NationalDemocraticAlliance()\n",
        "nda2.BJP()\n",
        "nda2.TDP()\n"
      ],
      "metadata": {
        "colab": {
          "base_uri": "https://localhost:8080/"
        },
        "id": "Dmpk8h17EA-F",
        "outputId": "08cfa96b-bb5a-4c67-9b56-69ed615f1a0b"
      },
      "execution_count": 4,
      "outputs": [
        {
          "output_type": "stream",
          "name": "stdout",
          "text": [
            "Government of BJP can form\n",
            "Alliance can form\n"
          ]
        }
      ]
    },
    {
      "cell_type": "markdown",
      "source": [
        "Question 5 Explain Multi level inheritence with python code?"
      ],
      "metadata": {
        "id": "u3ezqwR6E9js"
      }
    },
    {
      "cell_type": "markdown",
      "source": [
        "Answer 5: Unable to do it"
      ],
      "metadata": {
        "id": "NFYmHviYFJ5Y"
      }
    },
    {
      "cell_type": "markdown",
      "source": [
        "Question 6: What do you mean by conditional statement, explain with python code?\n",
        "\n"
      ],
      "metadata": {
        "id": "ouwU-qdSGeLa"
      }
    },
    {
      "cell_type": "markdown",
      "source": [
        "A conditional statement in programming allows you to execute different blocks of code based on whether a specified condition evaluates to true or false. In Python, the most common conditional statements are if, elif (short for \"else if\"), and else."
      ],
      "metadata": {
        "id": "tsR8fHh_Gaj4"
      }
    },
    {
      "cell_type": "code",
      "source": [
        "year_of_birth= int(input(\"Enter Your Year of Birth\"))\n",
        "if year_of_birth > 2000:\n",
        "  print(\"You comes under category of Gen Z\")\n",
        "\n",
        "elif year_of_birth > 2020:\n",
        "  print(\"You comes under category of Gen alpha\")\n",
        "\n",
        "else:\n",
        "  print(\"You comes under Gen X category\")"
      ],
      "metadata": {
        "colab": {
          "base_uri": "https://localhost:8080/"
        },
        "id": "btusg97uE76y",
        "outputId": "088c4676-8794-492c-b168-12a1fa11af2c"
      },
      "execution_count": 5,
      "outputs": [
        {
          "output_type": "stream",
          "name": "stdout",
          "text": [
            "Enter Your Year of Birth1986\n",
            "You comes under Gen X category\n"
          ]
        }
      ]
    },
    {
      "cell_type": "markdown",
      "source": [
        "Question 7: what do u mean by decession making statement, explain it by python code?\n",
        "\n",
        "\n",
        "\n"
      ],
      "metadata": {
        "id": "lCttpe7zIfC9"
      }
    },
    {
      "cell_type": "markdown",
      "source": [
        "A decision-making statement, often referred to as a conditional statement, allows a program to make decisions and choose different paths of execution based on specified conditions. In Python, the primary decision-making statements are if, elif (short for \"else if\"), and else."
      ],
      "metadata": {
        "id": "mP9BmiweI9CC"
      }
    },
    {
      "cell_type": "code",
      "source": [
        "year_of_birth= int(input(\"Enter Your Year of Birth\"))\n",
        "if year_of_birth < 2006:\n",
        "  print(\"You are eligible for voting\")\n",
        "\n",
        "elif year_of_birth > 2020:\n",
        "  print(\"You have to wait for voting\")\n",
        "\n",
        "else:\n",
        "  print(\"You have to vote prudently\")"
      ],
      "metadata": {
        "colab": {
          "base_uri": "https://localhost:8080/"
        },
        "id": "GEuXJeIqJDca",
        "outputId": "bf054b90-a1b5-4d5b-9900-ca2fab078fbc"
      },
      "execution_count": 7,
      "outputs": [
        {
          "output_type": "stream",
          "name": "stdout",
          "text": [
            "Enter Your Year of Birth2001\n",
            "You are eligible for voting\n"
          ]
        }
      ]
    },
    {
      "cell_type": "markdown",
      "source": [
        "Question 8 Write a programme of factorial in python"
      ],
      "metadata": {
        "id": "0GUsd91wJ1tm"
      }
    },
    {
      "cell_type": "code",
      "source": [
        "def factorial_iterative(n):\n",
        "    result = 1\n",
        "    for i in range(1, n + 1):\n",
        "        result *= i\n",
        "    return result\n",
        "\n",
        "# Input number\n",
        "num = int(input(\"Enter a number: \"))\n",
        "\n",
        "# Calculate factorial\n",
        "factorial_iter = factorial_iterative(num)\n",
        "print(f\"Factorial of {num} (iterative): {factorial_iter}\")\n",
        "\n",
        "\n"
      ],
      "metadata": {
        "colab": {
          "base_uri": "https://localhost:8080/"
        },
        "id": "l-fCqP7UJ8T5",
        "outputId": "8bbd120e-216e-43ac-f706-4ab32559fe67"
      },
      "execution_count": 8,
      "outputs": [
        {
          "output_type": "stream",
          "name": "stdout",
          "text": [
            "Enter a number: 8\n",
            "Factorial of 8 (iterative): 40320\n"
          ]
        }
      ]
    },
    {
      "cell_type": "markdown",
      "source": [
        "Question 9: what do you mean by function? explain with python code?"
      ],
      "metadata": {
        "id": "uVg7hbssKSR0"
      }
    },
    {
      "cell_type": "markdown",
      "source": [
        "A function in programming is a block of reusable code that performs a specific task. It takes some input (arguments or parameters), performs operations on them, and optionally returns a result."
      ],
      "metadata": {
        "id": "V_FJTbAdKdto"
      }
    },
    {
      "cell_type": "code",
      "source": [
        "# Function to calculate the area of a rectangle\n",
        "def calculate_area(length, width):\n",
        "    area = length * width\n",
        "    return area\n",
        "\n",
        "# Input length and width from the user\n",
        "length = float(input(\"Enter the length of the rectangle: \"))\n",
        "width = float(input(\"Enter the width of the rectangle: \"))\n",
        "\n",
        "# Call the function and print the result\n",
        "rectangle_area = calculate_area(length, width)\n",
        "print(f\"The area of the rectangle with length {length} and width {width} is: {rectangle_area}\")\n"
      ],
      "metadata": {
        "colab": {
          "base_uri": "https://localhost:8080/"
        },
        "id": "gZe2SL2OKj_J",
        "outputId": "fa41bff0-8ee0-4af8-bf2b-810d1cc36e5f"
      },
      "execution_count": 9,
      "outputs": [
        {
          "output_type": "stream",
          "name": "stdout",
          "text": [
            "Enter the length of the rectangle: 10\n",
            "Enter the width of the rectangle: 12\n",
            "The area of the rectangle with length 10.0 and width 12.0 is: 120.0\n"
          ]
        }
      ]
    },
    {
      "cell_type": "markdown",
      "source": [
        "Question: How many Pillars of oops we have in python?"
      ],
      "metadata": {
        "id": "3Mnx9cwwK1_p"
      }
    },
    {
      "cell_type": "markdown",
      "source": [
        " In Python, the main pillars of OOP are:"
      ],
      "metadata": {
        "id": "Hnql7j-wK67K"
      }
    },
    {
      "cell_type": "markdown",
      "source": [
        "1. Encapsulation: Encapsulation is the bundling of data (attributes) and methods (functions) that operate on the data into a single unit, called a class. It hides the internal state of an object from the outside world and only exposes the necessary functionalities through well-defined interfaces"
      ],
      "metadata": {
        "id": "fCjASymhLIvG"
      }
    },
    {
      "cell_type": "markdown",
      "source": [
        "2. Inheritance: Inheritance is a mechanism where a new class (called a derived class or subclass) can inherit properties and behavior (attributes and methods) from an existing class (called a base class or superclass). This promotes code reuse and allows for the creation of a hierarchy of classes with specialized functionalities."
      ],
      "metadata": {
        "id": "gM7bBRUMLOqI"
      }
    },
    {
      "cell_type": "markdown",
      "source": [
        "3.Polymorphism: . It enables a single interface to represent multiple implementations, allowing the same method to behave differently based on the object it is called upon."
      ],
      "metadata": {
        "id": "LuwPIeliLTnX"
      }
    },
    {
      "cell_type": "markdown",
      "source": [],
      "metadata": {
        "id": "6DEwniwII0_b"
      }
    }
  ]
}