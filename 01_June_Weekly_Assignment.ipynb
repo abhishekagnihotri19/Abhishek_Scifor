{
  "nbformat": 4,
  "nbformat_minor": 0,
  "metadata": {
    "colab": {
      "provenance": [],
      "authorship_tag": "ABX9TyO2hVYjb+WdWl548WEB+Cif",
      "include_colab_link": true
    },
    "kernelspec": {
      "name": "python3",
      "display_name": "Python 3"
    },
    "language_info": {
      "name": "python"
    }
  },
  "cells": [
    {
      "cell_type": "markdown",
      "metadata": {
        "id": "view-in-github",
        "colab_type": "text"
      },
      "source": [
        "<a href=\"https://colab.research.google.com/github/abhishekagnihotri19/Abhishek_Scifor/blob/main/01_June_Weekly_Assignment.ipynb\" target=\"_parent\"><img src=\"https://colab.research.google.com/assets/colab-badge.svg\" alt=\"Open In Colab\"/></a>"
      ]
    },
    {
      "cell_type": "markdown",
      "source": [
        "\n",
        "**1.MERGE STRING ALTERNATIVELY**"
      ],
      "metadata": {
        "id": "9235L6lDwfxC"
      }
    },
    {
      "cell_type": "code",
      "source": [
        "def mergerdString (word1, word2):\n",
        "  merged_string=[]\n",
        "  i, j = 0,0\n",
        "  len1, len2= len(word1), len(word1)\n",
        "\n",
        "  while i<len1 and j<len2:\n",
        "    merged_string.append(word1[i])\n",
        "    merged_string.append(word2[j])\n",
        "\n",
        "    i+=1\n",
        "    j+=1\n",
        "\n",
        "# Append the remaining characters from word1, if any\n",
        "\n",
        "  while i < len1:\n",
        "    merged_string.append(word1[i])\n",
        "\n",
        "# Append the remaining characters from word1, if any\n",
        "\n",
        "  while j < len1:\n",
        "    merged_string.append(word2[j])\n",
        "\n",
        "# Join the list into a single string\n",
        "\n",
        "\n",
        "  return ''.join(merged_string)\n",
        "\n",
        "word1= \"ahse\"\n",
        "word2=\"bihk\"\n",
        "result1=mergerdString(word1,word2)\n",
        "print (result1)"
      ],
      "metadata": {
        "colab": {
          "base_uri": "https://localhost:8080/"
        },
        "id": "oh7OPj1oxRmb",
        "outputId": "2fe94e2f-3096-41db-bd02-a5f7f10d3605"
      },
      "execution_count": 10,
      "outputs": [
        {
          "output_type": "stream",
          "name": "stdout",
          "text": [
            "abhishek\n"
          ]
        }
      ]
    },
    {
      "cell_type": "markdown",
      "source": [
        "**2. Find the Differrence**"
      ],
      "metadata": {
        "id": "ovx2GtUE7iR5"
      }
    },
    {
      "cell_type": "markdown",
      "source": [
        "Unable to do: Sorry"
      ],
      "metadata": {
        "id": "4Cs18cro9Xau"
      }
    },
    {
      "cell_type": "markdown",
      "source": [
        "**3. Find the index of First Occurence**"
      ],
      "metadata": {
        "id": "1jkTK1SJ-A6z"
      }
    },
    {
      "cell_type": "code",
      "source": [
        "def first_occurence(haystack, needle):\n",
        "      return haystack.find(needle)\n",
        "\n",
        "haystack=\"abhishek\"\n",
        "needle=\"hi\"\n",
        "result1= first_occurence(haystack, needle)\n",
        "print(result1)\n"
      ],
      "metadata": {
        "colab": {
          "base_uri": "https://localhost:8080/"
        },
        "id": "cqvhZo-b9RkW",
        "outputId": "ad91ceee-e52c-4626-dd78-614601b18f44"
      },
      "execution_count": 25,
      "outputs": [
        {
          "output_type": "stream",
          "name": "stdout",
          "text": [
            "2\n"
          ]
        }
      ]
    },
    {
      "cell_type": "code",
      "source": [
        "def first_occurence(haystack, needle):\n",
        "      return haystack.find(needle)\n",
        "\n",
        "haystack=\"abhishek\"\n",
        "needle=\"m\"\n",
        "result1= first_occurence(haystack, needle)\n",
        "print(result1)"
      ],
      "metadata": {
        "colab": {
          "base_uri": "https://localhost:8080/"
        },
        "id": "a8Gt5_i_B1sN",
        "outputId": "b9160ccf-4f4d-4d29-abc5-144dd4a705bf"
      },
      "execution_count": 26,
      "outputs": [
        {
          "output_type": "stream",
          "name": "stdout",
          "text": [
            "-1\n"
          ]
        }
      ]
    },
    {
      "cell_type": "markdown",
      "source": [
        "**4. Valid Anagram**"
      ],
      "metadata": {
        "id": "ZRbnuTgFOLbi"
      }
    },
    {
      "cell_type": "markdown",
      "source": [
        "**5 REPEATED SUBSTRING PATTERN**"
      ],
      "metadata": {
        "id": "uG0XbuTIOTWJ"
      }
    },
    {
      "cell_type": "markdown",
      "source": [
        "**6. MOVE ZEROES**"
      ],
      "metadata": {
        "id": "_tvKScGVbKhJ"
      }
    },
    {
      "cell_type": "markdown",
      "source": [
        "**7.PLUS ONE**"
      ],
      "metadata": {
        "id": "Jp-W4Bf9dFme"
      }
    },
    {
      "cell_type": "code",
      "source": [
        "def plusOne(digits):\n",
        "    # Start from the least significant digit\n",
        "    for i in range(len(digits) - 1, -1, -1):\n",
        "        # Increment the current digit\n",
        "        digits[i] += 1\n",
        "        # If the digit becomes 10 after increment, set it to 0 and carry 1 to the next higher significant digit\n",
        "        if digits[i] == 10:\n",
        "            digits[i] = 0\n",
        "        else:\n",
        "            # If the current digit does not become 10, no carry is needed, so return the digits array\n",
        "            return digits\n",
        "\n",
        "    # If there's a carry after processing all digits, add a new leading 1\n",
        "    return [1] + digits\n",
        "\n",
        "# Example usage\n",
        "digits = [1, 2, 3]\n",
        "result = plusOne(digits)\n",
        "print(result)\n",
        "\n",
        "\n"
      ],
      "metadata": {
        "colab": {
          "base_uri": "https://localhost:8080/"
        },
        "id": "0YCru5Fuiky-",
        "outputId": "f5bdeb77-05d9-4f92-f66a-b742c2f4a735"
      },
      "execution_count": 1,
      "outputs": [
        {
          "output_type": "stream",
          "name": "stdout",
          "text": [
            "[1, 2, 4]\n"
          ]
        }
      ]
    },
    {
      "cell_type": "markdown",
      "source": [
        "**8. SIGN OF THE PRODUCT OF AN ARRAY**"
      ],
      "metadata": {
        "id": "_TJrxiEOi1pd"
      }
    },
    {
      "cell_type": "markdown",
      "source": [
        "**9.ARITHEMATIC PROGRESSION FROM SEQUENCE**"
      ],
      "metadata": {
        "id": "oZhZEmA-pXqe"
      }
    },
    {
      "cell_type": "code",
      "source": [
        "def canFormArithmeticProgression(arr):\n",
        "    # Sort the array\n",
        "    arr.sort()\n",
        "\n",
        "    # Calculate the common difference\n",
        "    common_diff = arr[1] - arr[0]\n",
        "\n",
        "    # Check if the difference between any two consecutive elements is the same\n",
        "    for i in range(1, len(arr) - 1):\n",
        "        if arr[i + 1] - arr[i] != common_diff:\n",
        "            return False\n",
        "\n",
        "    # If all differences are the same, return True\n",
        "    return True\n",
        "\n",
        "# Example usage\n",
        "arr1 = [3, 5, 1]\n",
        "arr2 = [1, 2, 4]\n",
        "arr3 = [7, 9, 5]\n",
        "print(canFormArithmeticProgression(arr1))\n",
        "print(canFormArithmeticProgression(arr2))\n",
        "print(canFormArithmeticProgression(arr3))\n"
      ],
      "metadata": {
        "colab": {
          "base_uri": "https://localhost:8080/"
        },
        "id": "3feB3SNHrCAg",
        "outputId": "43c8820b-0347-41a0-b37b-f007b76fd758"
      },
      "execution_count": 2,
      "outputs": [
        {
          "output_type": "stream",
          "name": "stdout",
          "text": [
            "True\n",
            "False\n",
            "True\n"
          ]
        }
      ]
    },
    {
      "cell_type": "markdown",
      "source": [
        "**10. MONOTONOUS ARRRY**"
      ],
      "metadata": {
        "id": "T9jCB-7NsVwt"
      }
    }
  ]
}