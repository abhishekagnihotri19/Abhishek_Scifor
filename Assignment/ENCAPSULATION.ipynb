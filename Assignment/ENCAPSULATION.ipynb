{
  "nbformat": 4,
  "nbformat_minor": 0,
  "metadata": {
    "colab": {
      "provenance": []
    },
    "kernelspec": {
      "name": "python3",
      "display_name": "Python 3"
    },
    "language_info": {
      "name": "python"
    }
  },
  "cells": [
    {
      "cell_type": "markdown",
      "source": [
        "# **Python Encapsulation Documentation**\n"
      ],
      "metadata": {
        "id": "XF3hHdDeggse"
      }
    },
    {
      "cell_type": "markdown",
      "source": [
        "**Overview**"
      ],
      "metadata": {
        "id": "8IkpC97ngncb"
      }
    },
    {
      "cell_type": "markdown",
      "source": [
        "Encapsulation is one of the fundamental principles of Object-Oriented Programming (OOP). It describes the concept of bundling data (attributes) and methods (functions) that operate on the data into a single unit, called a class. Encapsulation also involves restricting direct access to some of an object's components, which is a means of preventing accidental interference and misuse of the data."
      ],
      "metadata": {
        "id": "bxtZ0bLxgzKF"
      }
    },
    {
      "cell_type": "markdown",
      "source": [
        "Basics of Encapsulation\n"
      ],
      "metadata": {
        "id": "MzExXzOhg29C"
      }
    },
    {
      "cell_type": "markdown",
      "source": [
        "1. Public Members: Accessible from anywhere.\n"
      ],
      "metadata": {
        "id": "55qsDWEMg6El"
      }
    },
    {
      "cell_type": "markdown",
      "source": [
        "2. Protected Members: Indicated by a single underscore _, they should not be accessed directly outside the class, though it is still possible.\n"
      ],
      "metadata": {
        "id": "J_v3OEjCg-_j"
      }
    },
    {
      "cell_type": "markdown",
      "source": [
        "3.Private Members: Indicated by a double underscore __, they are not directly accessible outside the class."
      ],
      "metadata": {
        "id": "qyRvRLFRkK3e"
      }
    },
    {
      "cell_type": "markdown",
      "source": [
        "**EXAMPLE**"
      ],
      "metadata": {
        "id": "F_vrogtxkRxo"
      }
    },
    {
      "cell_type": "code",
      "execution_count": null,
      "metadata": {
        "colab": {
          "base_uri": "https://localhost:8080/"
        },
        "id": "FQHd7XO6eQ2Z",
        "outputId": "ac0e937d-7743-4782-cd1f-fe16c91ed2ba"
      },
      "outputs": [
        {
          "output_type": "stream",
          "name": "stdout",
          "text": [
            "Deposited 500. New balance: 1500\n",
            "Withdrew 200. New balance: 1300\n",
            "Account Number: 123456789\n",
            "Balance: 1300\n"
          ]
        }
      ],
      "source": [
        "class BankAccount:\n",
        "    def __init__(self, account_number, balance):\n",
        "        self.__account_number = account_number  # Private attribute\n",
        "        self.__balance = balance  # Private attribute\n",
        "\n",
        "    def deposit(self, amount):\n",
        "        if amount > 0:\n",
        "            self.__balance += amount\n",
        "            print(f\"Deposited {amount}. New balance: {self.__balance}\")\n",
        "        else:\n",
        "            print(\"Deposit amount must be positive!\")\n",
        "\n",
        "    def withdraw(self, amount):\n",
        "        if 0 < amount <= self.__balance:\n",
        "            self.__balance -= amount\n",
        "            print(f\"Withdrew {amount}. New balance: {self.__balance}\")\n",
        "        else:\n",
        "            print(\"Invalid withdrawal amount!\")\n",
        "\n",
        "    def get_balance(self):\n",
        "        return self.__balance\n",
        "\n",
        "    def get_account_number(self):\n",
        "        return self.__account_number\n",
        "\n",
        "# Creating a BankAccount object\n",
        "account = BankAccount(\"123456789\", 1000)\n",
        "\n",
        "# Accessing public methods\n",
        "account.deposit(500)\n",
        "account.withdraw(200)\n",
        "\n",
        "# Trying to access private attributes directly (will result in an AttributeError)\n",
        "# print(account.__balance)  # Uncommenting this line will cause an error\n",
        "# print(account.__account_number)  # Uncommenting this line will cause an error\n",
        "\n",
        "# Accessing private attributes via public methods\n",
        "print(f\"Account Number: {account.get_account_number()}\")\n",
        "print(f\"Balance: {account.get_balance()}\")\n"
      ]
    }
  ]
}