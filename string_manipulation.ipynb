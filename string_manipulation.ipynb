{
  "nbformat": 4,
  "nbformat_minor": 0,
  "metadata": {
    "colab": {
      "provenance": [],
      "authorship_tag": "ABX9TyNrG/oGkqbi6tJAHiqCfJOo",
      "include_colab_link": true
    },
    "kernelspec": {
      "name": "python3",
      "display_name": "Python 3"
    },
    "language_info": {
      "name": "python"
    }
  },
  "cells": [
    {
      "cell_type": "markdown",
      "metadata": {
        "id": "view-in-github",
        "colab_type": "text"
      },
      "source": [
        "<a href=\"https://colab.research.google.com/github/abhishekagnihotri19/Abhishek_Scifor/blob/main/string_manipulation.ipynb\" target=\"_parent\"><img src=\"https://colab.research.google.com/assets/colab-badge.svg\" alt=\"Open In Colab\"/></a>"
      ]
    },
    {
      "cell_type": "markdown",
      "source": [
        "**STRING** **MANIPULATION**"
      ],
      "metadata": {
        "id": "XtBOnJL2jZmM"
      }
    },
    {
      "cell_type": "markdown",
      "source": [
        "1. Converts the first character to upper case\n"
      ],
      "metadata": {
        "id": "erzYx1YTly-r"
      }
    },
    {
      "cell_type": "code",
      "source": [
        "def letsCapitalize(input_string):\n",
        "    return input_string.capitalize()\n",
        "\n",
        "input_string = input(\"Enter your name: \")\n",
        "result = letsCapitalize(input_string)\n",
        "print(result)\n"
      ],
      "metadata": {
        "colab": {
          "base_uri": "https://localhost:8080/"
        },
        "id": "D4SqnDC6kehl",
        "outputId": "b96f0bd8-2e96-41ff-9794-d714677eb7d0"
      },
      "execution_count": 3,
      "outputs": [
        {
          "output_type": "stream",
          "name": "stdout",
          "text": [
            "Enter your name: abhishek\n",
            "Abhishek\n"
          ]
        }
      ]
    },
    {
      "cell_type": "markdown",
      "source": [
        "2. Programme: Returns the number of times a specified value occurs in a string\n"
      ],
      "metadata": {
        "id": "aCmaTQyCl6Jc"
      }
    },
    {
      "cell_type": "code",
      "source": [
        "def count_char(input_character):\n",
        "  return input_character.count('data')\n",
        "\n",
        "input_character= input(\"Intoduction please\")\n",
        "result2= count_char(input_character)\n",
        "print (result2)"
      ],
      "metadata": {
        "colab": {
          "base_uri": "https://localhost:8080/"
        },
        "id": "GxKqq8oXmAbw",
        "outputId": "a4199563-9252-4a65-e7d8-c14b63d3c42e"
      },
      "execution_count": 6,
      "outputs": [
        {
          "output_type": "stream",
          "name": "stdout",
          "text": [
            "Intoduction pleaseworking as traineee data scientist\n",
            "1\n"
          ]
        }
      ]
    },
    {
      "cell_type": "markdown",
      "source": [
        "3.Replace Part of a String\n"
      ],
      "metadata": {
        "id": "qoUJ8IrrnuFQ"
      }
    },
    {
      "cell_type": "code",
      "source": [
        "def lets_replace(send_string):\n",
        "    return send_string.replace('scientist', 'engineer')\n",
        "\n",
        "user_string = input(\"Give a string: \")\n",
        "result_3 = lets_replace(user_string)\n",
        "print(result_3)\n"
      ],
      "metadata": {
        "colab": {
          "base_uri": "https://localhost:8080/"
        },
        "id": "7WSG6WP0p6i-",
        "outputId": "8271cdd1-af9c-4bbc-c217-f249c0edf467"
      },
      "execution_count": 8,
      "outputs": [
        {
          "output_type": "stream",
          "name": "stdout",
          "text": [
            "Give a string: I would be data scientist\n",
            "I would be data engineer\n"
          ]
        }
      ]
    },
    {
      "cell_type": "markdown",
      "source": [
        "4. Count Spaces in String\n"
      ],
      "metadata": {
        "id": "31W068G2tg1_"
      }
    },
    {
      "cell_type": "code",
      "source": [
        "def count_space(string_input):\n",
        "  return string_input.count(' ')\n",
        "\n",
        "input_str=input(\"Send me name of relatives, I will calculate differences :\")\n",
        "result2=count_space(input_str)\n",
        "\n",
        "print (result2)\n",
        "\n"
      ],
      "metadata": {
        "colab": {
          "base_uri": "https://localhost:8080/"
        },
        "id": "-depwZPqtk2Q",
        "outputId": "7766cc94-71f2-41af-beea-f01ce4e42d51"
      },
      "execution_count": 17,
      "outputs": [
        {
          "output_type": "stream",
          "name": "stdout",
          "text": [
            "Send me name of relatives, I will calculate differences :bro sis uncle aunty\n",
            "3\n"
          ]
        }
      ]
    },
    {
      "cell_type": "markdown",
      "source": [
        "5. Programme to find position of Particular Character in the string"
      ],
      "metadata": {
        "id": "0q5XjiXIwOKl"
      }
    },
    {
      "cell_type": "code",
      "source": [
        "def lets_find_india(user_input):\n",
        "  return user_input.find('love')\n",
        "\n",
        "user_input= input(\"Want to find position of something\")\n",
        "result_5=lets_find_india(user_input)\n",
        "print (result_5)\n"
      ],
      "metadata": {
        "colab": {
          "base_uri": "https://localhost:8080/"
        },
        "id": "0sw7TVqTwgOe",
        "outputId": "62962308-326c-4db0-cbb2-4fd4256035ca"
      },
      "execution_count": 19,
      "outputs": [
        {
          "output_type": "stream",
          "name": "stdout",
          "text": [
            "Want to find position of somethingi love my india\n",
            "2\n"
          ]
        }
      ]
    }
  ]
}