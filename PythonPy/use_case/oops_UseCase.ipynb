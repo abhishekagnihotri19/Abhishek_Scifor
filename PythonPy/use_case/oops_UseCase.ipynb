{
  "nbformat": 4,
  "nbformat_minor": 0,
  "metadata": {
    "colab": {
      "provenance": []
    },
    "kernelspec": {
      "name": "python3",
      "display_name": "Python 3"
    },
    "language_info": {
      "name": "python"
    }
  },
  "cells": [
    {
      "cell_type": "code",
      "source": [
        "class Bank:\n",
        "    def __init__(self, pin, balance=0):\n",
        "        self.pin = pin\n",
        "        self.balance = balance\n",
        "\n",
        "    def verify_pin(self, entered_pin):\n",
        "        return entered_pin == self.pin\n",
        "\n",
        "    def withdraw(self, amount):\n",
        "        if amount <= 0:\n",
        "            print(\"Invalid withdrawal amount.\")\n",
        "            return\n",
        "\n",
        "        if self.balance >= amount:\n",
        "            self.balance -= amount\n",
        "            print(f\"Withdrawal successful: ${amount}\")\n",
        "            self.display_balance()\n",
        "        else:\n",
        "            print(\"Insufficient balance.\")\n",
        "\n",
        "    def deposit(self, amount):\n",
        "        if amount <= 0:\n",
        "            print(\"Invalid deposit amount.\")\n",
        "            return\n",
        "\n",
        "        self.balance += amount\n",
        "        print(f\"Deposit successful: ${amount}\")\n",
        "        self.display_balance()\n",
        "\n",
        "    def display_balance(self):\n",
        "        print(f\"Current Balance: ${self.balance}\")\n",
        "\n",
        "\n",
        "bank = Bank(pin=\"0786\", balance=1000)\n",
        "\n",
        "entered_pin = input(\"Enter your ATM PIN: \")\n",
        "if bank.verify_pin(entered_pin):\n",
        "    print(\"PIN verified successfully.\")\n",
        "    print(\"1. Withdrawal\")\n",
        "    print(\"2. Deposit\")\n",
        "    choice = input(\"Enter your choice (1/2): \")\n",
        "\n",
        "    if choice == \"1\":\n",
        "        withdrawal_amount = float(input(\"Enter withdrawal amount: $\"))\n",
        "        bank.withdraw(withdrawal_amount)\n",
        "    elif choice == \"2\":\n",
        "        deposit_amount = float(input(\"Enter deposit amount: $\"))\n",
        "        bank.deposit(deposit_amount)\n",
        "    else:\n",
        "        print(\"Invalid choice.\")\n",
        "else:\n",
        "    print(\"Invalid PIN. Access denied.\")\n"
      ],
      "metadata": {
        "colab": {
          "base_uri": "https://localhost:8080/"
        },
        "id": "3Lf5MERzN5YX",
        "outputId": "aac00cc1-ca0a-479f-f88c-ed5992d6f12c"
      },
      "execution_count": 4,
      "outputs": [
        {
          "output_type": "stream",
          "name": "stdout",
          "text": [
            "Enter your ATM PIN: 0786\n",
            "PIN verified successfully.\n",
            "1. Withdrawal\n",
            "2. Deposit\n",
            "Enter your choice (1/2): 2\n",
            "Enter deposit amount: $500\n",
            "Deposit successful: $500.0\n",
            "Current Balance: $1500.0\n"
          ]
        }
      ]
    }
  ]
}